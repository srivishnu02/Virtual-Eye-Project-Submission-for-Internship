{
  "nbformat": 4,
  "nbformat_minor": 0,
  "metadata": {
    "colab": {
      "provenance": [],
      "gpuType": "T4"
    },
    "kernelspec": {
      "name": "python3",
      "display_name": "Python 3"
    },
    "language_info": {
      "name": "python"
    },
    "accelerator": "GPU"
  },
  "cells": [
    {
      "cell_type": "code",
      "source": [
        "from google.colab import drive\n",
        "drive.mount('/content/drive')"
      ],
      "metadata": {
        "id": "ACxhzAzIAfrf",
        "colab": {
          "base_uri": "https://localhost:8080/"
        },
        "outputId": "39cdd9be-c216-474f-d9d3-f10a0f86caca"
      },
      "execution_count": null,
      "outputs": [
        {
          "output_type": "stream",
          "name": "stdout",
          "text": [
            "Drive already mounted at /content/drive; to attempt to forcibly remount, call drive.mount(\"/content/drive\", force_remount=True).\n"
          ]
        }
      ]
    },
    {
      "cell_type": "code",
      "source": [
        "!unzip '/content/drive/MyDrive/archive (3).zip'"
      ],
      "metadata": {
        "colab": {
          "base_uri": "https://localhost:8080/"
        },
        "id": "ktr7KuuCfjC6",
        "outputId": "57ca4bcb-3c88-415f-d7af-7f93398a1f0e"
      },
      "execution_count": null,
      "outputs": [
        {
          "output_type": "stream",
          "name": "stdout",
          "text": [
            "Archive:  /content/drive/MyDrive/archive (3).zip\n",
            "  inflating: test_data/test_data/blasti/DSC_6396.jpg  \n",
            "  inflating: test_data/test_data/blasti/DSC_6397.jpg  \n",
            "  inflating: test_data/test_data/blasti/DSC_6398.jpg  \n",
            "  inflating: test_data/test_data/blasti/DSC_6399.jpg  \n",
            "  inflating: test_data/test_data/blasti/DSC_6400.jpg  \n",
            "  inflating: test_data/test_data/blasti/DSC_6401.jpg  \n",
            "  inflating: test_data/test_data/blasti/DSC_6402.jpg  \n",
            "  inflating: test_data/test_data/blasti/DSC_6403.jpg  \n",
            "  inflating: test_data/test_data/blasti/DSC_6405.jpg  \n",
            "  inflating: test_data/test_data/blasti/DSC_6406.jpg  \n",
            "  inflating: test_data/test_data/blasti/DSC_6407.jpg  \n",
            "  inflating: test_data/test_data/blasti/DSC_6408.jpg  \n",
            "  inflating: test_data/test_data/blasti/DSC_6409.jpg  \n",
            "  inflating: test_data/test_data/blasti/DSC_6410.jpg  \n",
            "  inflating: test_data/test_data/blasti/DSC_6411.jpg  \n",
            "  inflating: test_data/test_data/bonegl/DSC_4587.jpg  \n",
            "  inflating: test_data/test_data/bonegl/DSC_4588.jpg  \n",
            "  inflating: test_data/test_data/bonegl/DSC_4589.jpg  \n",
            "  inflating: test_data/test_data/bonegl/DSC_4590.jpg  \n",
            "  inflating: test_data/test_data/bonegl/DSC_4591.jpg  \n",
            "  inflating: test_data/test_data/bonegl/DSC_4592.jpg  \n",
            "  inflating: test_data/test_data/bonegl/DSC_4593.jpg  \n",
            "  inflating: test_data/test_data/brhkyt/D72_0473.jpg  \n",
            "  inflating: test_data/test_data/brhkyt/D72_0474.jpg  \n",
            "  inflating: test_data/test_data/brhkyt/D72_0475.jpg  \n",
            "  inflating: test_data/test_data/brhkyt/D72_0477.jpg  \n",
            "  inflating: test_data/test_data/brhkyt/D72_0478.jpg  \n",
            "  inflating: test_data/test_data/brhkyt/D72_0479.jpg  \n",
            "  inflating: test_data/test_data/cbrtsh/_D32_10310.jpg  \n",
            "  inflating: test_data/test_data/cbrtsh/_D32_10311.jpg  \n",
            "  inflating: test_data/test_data/cbrtsh/_D32_10312.jpg  \n",
            "  inflating: test_data/test_data/cbrtsh/_D32_10313.jpg  \n",
            "  inflating: test_data/test_data/cbrtsh/_D32_10314.jpg  \n",
            "  inflating: test_data/test_data/cbrtsh/_D32_10317.jpg  \n",
            "  inflating: test_data/test_data/cbrtsh/_D32_10318.jpg  \n",
            "  inflating: test_data/test_data/cmnmyn/DSC_2443.jpg  \n",
            "  inflating: test_data/test_data/cmnmyn/DSC_4681.jpg  \n",
            "  inflating: test_data/test_data/cmnmyn/DSC_5137.jpg  \n",
            "  inflating: test_data/test_data/cmnmyn/DSC_7625.jpg  \n",
            "  inflating: test_data/test_data/cmnmyn/P1050277.jpg  \n",
            "  inflating: test_data/test_data/cmnmyn/_D32_12426.jpg  \n",
            "  inflating: test_data/test_data/cmnmyn/_D32_12427.jpg  \n",
            "  inflating: test_data/test_data/cmnmyn/_D32_12428.jpg  \n",
            "  inflating: test_data/test_data/gretit/11620454726_31a35c26da_o.jpg  \n",
            "  inflating: test_data/test_data/gretit/11776135285_ccf938fa2e_o.jpg  \n",
            "  inflating: test_data/test_data/gretit/11905645146_6a5d4ff9f9_o.jpg  \n",
            "  inflating: test_data/test_data/gretit/8537646712_0b282c4c6a_o.jpg  \n",
            "  inflating: test_data/test_data/gretit/D72_0693.jpg  \n",
            "  inflating: test_data/test_data/gretit/D72_0694.jpg  \n",
            "  inflating: test_data/test_data/gretit/D72_0695.jpg  \n",
            "  inflating: test_data/test_data/hilpig/DSC_6359.jpg  \n",
            "  inflating: test_data/test_data/hilpig/DSC_6362.jpg  \n",
            "  inflating: test_data/test_data/hilpig/DSC_6364.jpg  \n",
            "  inflating: test_data/test_data/hilpig/DSC_6368.jpg  \n",
            "  inflating: test_data/test_data/hilpig/DSC_6403.jpg  \n",
            "  inflating: test_data/test_data/hilpig/DSC_6404.jpg  \n",
            "  inflating: test_data/test_data/hilpig/P1000319.jpg  \n",
            "  inflating: test_data/test_data/hilpig/P1000323.jpg  \n",
            "  inflating: test_data/test_data/hilpig/P1050044.jpg  \n",
            "  inflating: test_data/test_data/hilpig/P1050045.jpg  \n",
            "  inflating: test_data/test_data/himbul/11602064885_3826df4500_o.jpg  \n",
            "  inflating: test_data/test_data/himbul/11619942574_42f23a7b05_o.jpg  \n",
            "  inflating: test_data/test_data/himbul/11620097904_33fa8ee878_o.jpg  \n",
            "  inflating: test_data/test_data/himbul/5857371972_ed4f88b275_o.jpg  \n",
            "  inflating: test_data/test_data/himbul/6154954471_eefe6e00d1_o.jpg  \n",
            "  inflating: test_data/test_data/himbul/D72_0688.jpg  \n",
            "  inflating: test_data/test_data/himbul/D72_0691.jpg  \n",
            "  inflating: test_data/test_data/himbul/DSC08357.jpg  \n",
            "  inflating: test_data/test_data/himbul/DSC_3230.jpg  \n",
            "  inflating: test_data/test_data/himbul/DSC_7439.jpg  \n",
            "  inflating: test_data/test_data/himbul/DSC_7602.jpg  \n",
            "  inflating: test_data/test_data/himbul/P1060368.jpg  \n",
            "  inflating: test_data/test_data/himbul/P1060369.jpg  \n",
            "  inflating: test_data/test_data/himbul/_D32_10242.jpg  \n",
            "  inflating: test_data/test_data/himbul/_D32_10245.jpg  \n",
            "  inflating: test_data/test_data/himbul/_D32_10251.jpg  \n",
            "  inflating: test_data/test_data/himbul/_D32_10319.jpg  \n",
            "  inflating: test_data/test_data/himbul/_D32_10320.jpg  \n",
            "  inflating: test_data/test_data/himbul/_DSC9446.jpg  \n",
            "  inflating: test_data/test_data/himgri/IMG_5384.JPG  \n",
            "  inflating: test_data/test_data/himgri/IMG_5385.JPG  \n",
            "  inflating: test_data/test_data/himgri/IMG_5386.JPG  \n",
            "  inflating: test_data/test_data/himgri/IMG_5387.JPG  \n",
            "  inflating: test_data/test_data/himgri/IMG_5459.JPG  \n",
            "  inflating: test_data/test_data/himgri/IMG_5460.JPG  \n",
            "  inflating: test_data/test_data/himgri/IMG_5487.JPG  \n",
            "  inflating: test_data/test_data/himgri/IMG_5488.JPG  \n",
            "  inflating: test_data/test_data/himgri/IMG_5489.JPG  \n",
            "  inflating: test_data/test_data/himgri/IMG_5490.JPG  \n",
            "  inflating: test_data/test_data/himgri/IMG_5491.JPG  \n",
            "  inflating: test_data/test_data/himgri/IMG_5492.JPG  \n",
            "  inflating: test_data/test_data/himgri/P1020742.jpg  \n",
            "  inflating: test_data/test_data/himgri/P1020743.jpg  \n",
            "  inflating: test_data/test_data/himgri/P1020746.jpg  \n",
            "  inflating: test_data/test_data/himgri/P1020748.jpg  \n",
            "  inflating: test_data/test_data/himgri/P1030055.jpg  \n",
            "  inflating: test_data/test_data/himgri/P1060776.jpg  \n",
            "  inflating: test_data/test_data/himgri/P1060777.jpg  \n",
            "  inflating: test_data/test_data/himgri/P1060778.jpg  \n",
            "  inflating: test_data/test_data/hsparo/100_5573.JPG  \n",
            "  inflating: test_data/test_data/hsparo/100_5585.JPG  \n",
            "  inflating: test_data/test_data/hsparo/100_5586.JPG  \n",
            "  inflating: test_data/test_data/hsparo/100_5742.JPG  \n",
            "  inflating: test_data/test_data/hsparo/12265273154_48e0fefd42_o.jpg  \n",
            "  inflating: test_data/test_data/hsparo/DSC_4521.jpg  \n",
            "  inflating: test_data/test_data/hsparo/DSC_7619.jpg  \n",
            "  inflating: test_data/test_data/hsparo/_DSC_11244.jpg  \n",
            "  inflating: test_data/test_data/hsparo/_DSC_11246.jpg  \n",
            "  inflating: test_data/test_data/indvul/DSC_1263.jpg  \n",
            "  inflating: test_data/test_data/indvul/DSC_1273.jpg  \n",
            "  inflating: test_data/test_data/indvul/DSC_1274.jpg  \n",
            "  inflating: test_data/test_data/indvul/DSC_1275.jpg  \n",
            "  inflating: test_data/test_data/indvul/DSC_1277.jpg  \n",
            "  inflating: test_data/test_data/indvul/_DSC8754.jpg  \n",
            "  inflating: test_data/test_data/indvul/_DSC9520.jpg  \n",
            "  inflating: test_data/test_data/indvul/_DSC9521.jpg  \n",
            "  inflating: test_data/test_data/indvul/_DSC9523.jpg  \n",
            "  inflating: test_data/test_data/jglowl/_D32_10584.jpg  \n",
            "  inflating: test_data/test_data/jglowl/_D32_10587.jpg  \n",
            "  inflating: test_data/test_data/jglowl/_D32_10593.jpg  \n",
            "  inflating: test_data/test_data/jglowl/_D32_13515.jpg  \n",
            "  inflating: test_data/test_data/jglowl/_D32_13516.jpg  \n",
            "  inflating: test_data/test_data/jglowl/_D32_13517.jpg  \n",
            "  inflating: test_data/test_data/lbicrw/100_4917.JPG  \n",
            "  inflating: test_data/test_data/lbicrw/IMG_5538.JPG  \n",
            "  inflating: test_data/test_data/lbicrw/IMG_5541.JPG  \n",
            "  inflating: test_data/test_data/lbicrw/IMG_5543.JPG  \n",
            "  inflating: test_data/test_data/lbicrw/IMG_5544.JPG  \n",
            "  inflating: test_data/test_data/lbicrw/P1030030.jpg  \n",
            "  inflating: test_data/test_data/mgprob/100_5811.JPG  \n",
            "  inflating: test_data/test_data/mgprob/100_5812.JPG  \n",
            "  inflating: test_data/test_data/mgprob/100_5813.JPG  \n",
            "  inflating: test_data/test_data/mgprob/DSC_3233.jpg  \n",
            "  inflating: test_data/test_data/mgprob/_DSC0085.jpg  \n",
            "  inflating: test_data/test_data/mgprob/_DSC0133.jpg  \n",
            "  inflating: test_data/test_data/mgprob/_DSC0135.jpg  \n",
            "  inflating: test_data/test_data/rebimg/100_5756.JPG  \n",
            "  inflating: test_data/test_data/rebimg/100_5757.JPG  \n",
            "  inflating: test_data/test_data/rebimg/100_5758.JPG  \n",
            "  inflating: test_data/test_data/rebimg/100_5759.JPG  \n",
            "  inflating: test_data/test_data/rebimg/100_5760.JPG  \n",
            "  inflating: test_data/test_data/rebimg/13009302395_5d88a9d62b_o.jpg  \n",
            "  inflating: test_data/test_data/rebimg/13009315305_f1cbfb6767_o.jpg  \n",
            "  inflating: test_data/test_data/rebimg/13009451823_8eb502581f_o.jpg  \n",
            "  inflating: test_data/test_data/rebimg/DSC_7148.jpg  \n",
            "  inflating: test_data/test_data/rebimg/IMG_5251.JPG  \n",
            "  inflating: test_data/test_data/rebimg/IMG_5252.JPG  \n",
            "  inflating: test_data/test_data/wcrsrt/100_4462.JPG  \n",
            "  inflating: test_data/test_data/wcrsrt/100_4463.JPG  \n",
            "  inflating: test_data/test_data/wcrsrt/100_4464.JPG  \n",
            "  inflating: test_data/test_data/wcrsrt/100_4466.JPG  \n",
            "  inflating: test_data/test_data/wcrsrt/100_4467.JPG  \n",
            "  inflating: test_data/test_data/wcrsrt/100_4468.JPG  \n",
            "  inflating: test_data/test_data/wcrsrt/100_5103.JPG  \n",
            "  inflating: test_data/test_data/wcrsrt/100_5105.JPG  \n",
            "  inflating: test_data/test_data/wcrsrt/11382677585_ef6570a041_o.jpg  \n",
            "  inflating: test_data/test_data/wcrsrt/11382746854_7ce73793b3_o.jpg  \n",
            "  inflating: train_data/train_data/blasti/DSC_6382.jpg  \n",
            "  inflating: train_data/train_data/blasti/DSC_6383.jpg  \n",
            "  inflating: train_data/train_data/blasti/DSC_6384-2.jpg  \n",
            "  inflating: train_data/train_data/blasti/DSC_6384.jpg  \n",
            "  inflating: train_data/train_data/blasti/DSC_6385.jpg  \n",
            "  inflating: train_data/train_data/blasti/DSC_6386.jpg  \n",
            "  inflating: train_data/train_data/blasti/DSC_6387.jpg  \n",
            "  inflating: train_data/train_data/blasti/DSC_6388.jpg  \n",
            "  inflating: train_data/train_data/blasti/DSC_6389.jpg  \n",
            "  inflating: train_data/train_data/blasti/DSC_6390.jpg  \n",
            "  inflating: train_data/train_data/blasti/DSC_6391.jpg  \n",
            "  inflating: train_data/train_data/blasti/DSC_6392.jpg  \n",
            "  inflating: train_data/train_data/blasti/DSC_6393.jpg  \n",
            "  inflating: train_data/train_data/blasti/DSC_6394.jpg  \n",
            "  inflating: train_data/train_data/blasti/DSC_6395.jpg  \n",
            "  inflating: train_data/train_data/bonegl/DSC_4570.jpg  \n",
            "  inflating: train_data/train_data/bonegl/DSC_4571.jpg  \n",
            "  inflating: train_data/train_data/bonegl/DSC_4583.jpg  \n",
            "  inflating: train_data/train_data/bonegl/DSC_4584.jpg  \n",
            "  inflating: train_data/train_data/bonegl/DSC_4585.jpg  \n",
            "  inflating: train_data/train_data/bonegl/DSC_4586.jpg  \n",
            "  inflating: train_data/train_data/brhkyt/D72_0400.jpg  \n",
            "  inflating: train_data/train_data/brhkyt/D72_0401.jpg  \n",
            "  inflating: train_data/train_data/brhkyt/D72_0470.jpg  \n",
            "  inflating: train_data/train_data/brhkyt/D72_0471.jpg  \n",
            "  inflating: train_data/train_data/brhkyt/D72_0472.jpg  \n",
            "  inflating: train_data/train_data/cbrtsh/100_5097.JPG  \n",
            "  inflating: train_data/train_data/cbrtsh/_D32_10303.jpg  \n",
            "  inflating: train_data/train_data/cbrtsh/_D32_10305.jpg  \n",
            "  inflating: train_data/train_data/cbrtsh/_D32_10306.jpg  \n",
            "  inflating: train_data/train_data/cbrtsh/_D32_10307.jpg  \n",
            "  inflating: train_data/train_data/cbrtsh/_D32_10308.jpg  \n",
            "  inflating: train_data/train_data/cbrtsh/_D32_10309.jpg  \n",
            "  inflating: train_data/train_data/cmnmyn/100_5763.JPG  \n",
            "  inflating: train_data/train_data/cmnmyn/5866682091_870ccc946c_o.jpg  \n",
            "  inflating: train_data/train_data/cmnmyn/6154956165_64266b8b53_o.jpg  \n",
            "  inflating: train_data/train_data/cmnmyn/DSCN5784.jpg  \n",
            "  inflating: train_data/train_data/cmnmyn/DSCN5787.jpg  \n",
            "  inflating: train_data/train_data/cmnmyn/DSCN5790.jpg  \n",
            "  inflating: train_data/train_data/cmnmyn/DSCN5791.jpg  \n",
            "  inflating: train_data/train_data/gretit/100_5042.JPG  \n",
            "  inflating: train_data/train_data/gretit/100_5043.JPG  \n",
            "  inflating: train_data/train_data/gretit/100_5044.JPG  \n",
            "  inflating: train_data/train_data/gretit/100_5045.JPG  \n",
            "  inflating: train_data/train_data/gretit/100_5046.JPG  \n",
            "  inflating: train_data/train_data/gretit/100_5047.JPG  \n",
            "  inflating: train_data/train_data/hilpig/DSC_6272.jpg  \n",
            "  inflating: train_data/train_data/hilpig/DSC_6273.jpg  \n",
            "  inflating: train_data/train_data/hilpig/DSC_6274.jpg  \n",
            "  inflating: train_data/train_data/hilpig/DSC_6275.jpg  \n",
            "  inflating: train_data/train_data/hilpig/DSC_6350.jpg  \n",
            "  inflating: train_data/train_data/hilpig/DSC_6351.jpg  \n",
            "  inflating: train_data/train_data/hilpig/DSC_6352.jpg  \n",
            "  inflating: train_data/train_data/hilpig/DSC_6353.jpg  \n",
            "  inflating: train_data/train_data/hilpig/DSC_6354.jpg  \n",
            "  inflating: train_data/train_data/hilpig/DSC_6358.jpg  \n",
            "  inflating: train_data/train_data/himbul/100_5028.JPG  \n",
            "  inflating: train_data/train_data/himbul/100_5029.JPG  \n",
            "  inflating: train_data/train_data/himbul/100_5096.JPG  \n",
            "  inflating: train_data/train_data/himbul/100_5099.JPG  \n",
            "  inflating: train_data/train_data/himbul/100_5100.JPG  \n",
            "  inflating: train_data/train_data/himbul/100_5102.JPG  \n",
            "  inflating: train_data/train_data/himbul/100_5110.JPG  \n",
            "  inflating: train_data/train_data/himbul/100_5112.JPG  \n",
            "  inflating: train_data/train_data/himbul/100_5113.JPG  \n",
            "  inflating: train_data/train_data/himbul/100_5159.JPG  \n",
            "  inflating: train_data/train_data/himbul/100_5160.JPG  \n",
            "  inflating: train_data/train_data/himbul/100_5161.JPG  \n",
            "  inflating: train_data/train_data/himbul/100_5162.JPG  \n",
            "  inflating: train_data/train_data/himbul/10774570945_9bc537c255_o.jpg  \n",
            "  inflating: train_data/train_data/himbul/11383838134_96e891a316_o.jpg  \n",
            "  inflating: train_data/train_data/himbul/11383857084_cdd7514746_o.jpg  \n",
            "  inflating: train_data/train_data/himbul/11387473723_464965720a_o.jpg  \n",
            "  inflating: train_data/train_data/himbul/9007817678_24db19fc63_o.jpg  \n",
            "  inflating: train_data/train_data/himgri/12029790563_2fe54a68aa_o.jpg  \n",
            "  inflating: train_data/train_data/himgri/12029822653_1185544e7b_o.jpg  \n",
            "  inflating: train_data/train_data/himgri/12029933015_802428e277_o.jpg  \n",
            "  inflating: train_data/train_data/himgri/12029987304_031b7a2d53_o.jpg  \n",
            "  inflating: train_data/train_data/himgri/12030165813_f5341e8ed0_o.jpg  \n",
            "  inflating: train_data/train_data/himgri/12030221124_1baaf905d1_o.jpg  \n",
            "  inflating: train_data/train_data/himgri/12030269234_1c3f5a8e8c_o.jpg  \n",
            "  inflating: train_data/train_data/himgri/12152037683_13e1556c41_o.jpg  \n",
            "  inflating: train_data/train_data/himgri/12152178844_dc29e3126f_o.jpg  \n",
            "  inflating: train_data/train_data/himgri/12152510436_23b62fed3b_o.jpg  \n",
            "  inflating: train_data/train_data/himgri/12265055185_138e3c7c70_o.jpg  \n",
            "  inflating: train_data/train_data/himgri/12265498144_d2e80faa3b_o.jpg  \n",
            "  inflating: train_data/train_data/himgri/12265561764_4814951031_o.jpg  \n",
            "  inflating: train_data/train_data/himgri/12265582724_61cb64e73a_o.jpg  \n",
            "  inflating: train_data/train_data/himgri/12265738206_2b9b25cc8a_o.jpg  \n",
            "  inflating: train_data/train_data/himgri/12265747116_d4b4fa3741_o.jpg  \n",
            "  inflating: train_data/train_data/himgri/12266053036_fcab92d8e8_o.jpg  \n",
            "  inflating: train_data/train_data/himgri/12266077576_1d7143aaf7_o.jpg  \n",
            "  inflating: train_data/train_data/himgri/12266086526_82cd337667_o.jpg  \n",
            "  inflating: train_data/train_data/himgri/IMG_5463.JPG  \n",
            "  inflating: train_data/train_data/hsparo/100_4757.JPG  \n",
            "  inflating: train_data/train_data/hsparo/100_4758.JPG  \n",
            "  inflating: train_data/train_data/hsparo/100_5039.JPG  \n",
            "  inflating: train_data/train_data/hsparo/100_5040.JPG  \n",
            "  inflating: train_data/train_data/hsparo/100_5041.JPG  \n",
            "  inflating: train_data/train_data/hsparo/100_5048.JPG  \n",
            "  inflating: train_data/train_data/hsparo/100_5049.JPG  \n",
            "  inflating: train_data/train_data/hsparo/100_5050.JPG  \n",
            "  inflating: train_data/train_data/hsparo/100_5572.JPG  \n",
            "  inflating: train_data/train_data/indvul/DSC_0502.jpg  \n",
            "  inflating: train_data/train_data/indvul/DSC_0571e.jpg  \n",
            "  inflating: train_data/train_data/indvul/DSC_0572.jpg  \n",
            "  inflating: train_data/train_data/indvul/DSC_0576e.jpg  \n",
            "  inflating: train_data/train_data/indvul/DSC_0582.jpg  \n",
            "  inflating: train_data/train_data/indvul/DSC_0583e.jpg  \n",
            "  inflating: train_data/train_data/indvul/DSC_0584.jpg  \n",
            "  inflating: train_data/train_data/indvul/DSC_0616c.jpg  \n",
            "  inflating: train_data/train_data/indvul/DSC_0617.jpg  \n",
            "  inflating: train_data/train_data/jglowl/12152151476_7a1524aabb_o.jpg  \n",
            "  inflating: train_data/train_data/jglowl/DSC01335.jpg  \n",
            "  inflating: train_data/train_data/jglowl/DSC01336.jpg  \n",
            "  inflating: train_data/train_data/jglowl/_D32_10285.jpg  \n",
            "  inflating: train_data/train_data/jglowl/_D32_10578.jpg  \n",
            "  inflating: train_data/train_data/jglowl/_D32_10583.jpg  \n",
            "  inflating: train_data/train_data/lbicrw/100_4037.JPG  \n",
            "  inflating: train_data/train_data/lbicrw/100_4912.JPG  \n",
            "  inflating: train_data/train_data/lbicrw/100_4913.JPG  \n",
            "  inflating: train_data/train_data/lbicrw/100_4914.JPG  \n",
            "  inflating: train_data/train_data/lbicrw/100_4915.JPG  \n",
            "  inflating: train_data/train_data/lbicrw/100_4916.JPG  \n",
            "  inflating: train_data/train_data/mgprob/100_5587.JPG  \n",
            "  inflating: train_data/train_data/mgprob/100_5588.JPG  \n",
            "  inflating: train_data/train_data/mgprob/100_5589.JPG  \n",
            "  inflating: train_data/train_data/mgprob/100_5590.JPG  \n",
            "  inflating: train_data/train_data/mgprob/100_5592.JPG  \n",
            "  inflating: train_data/train_data/mgprob/100_5762.JPG  \n",
            "  inflating: train_data/train_data/rebimg/100_5744.JPG  \n",
            "  inflating: train_data/train_data/rebimg/100_5745.JPG  \n",
            "  inflating: train_data/train_data/rebimg/100_5746.JPG  \n",
            "  inflating: train_data/train_data/rebimg/100_5748.JPG  \n",
            "  inflating: train_data/train_data/rebimg/100_5749.JPG  \n",
            "  inflating: train_data/train_data/rebimg/100_5750.JPG  \n",
            "  inflating: train_data/train_data/rebimg/100_5751.JPG  \n",
            "  inflating: train_data/train_data/rebimg/100_5752.JPG  \n",
            "  inflating: train_data/train_data/rebimg/100_5754.JPG  \n",
            "  inflating: train_data/train_data/rebimg/100_5755.JPG  \n",
            "  inflating: train_data/train_data/wcrsrt/100_4452.JPG  \n",
            "  inflating: train_data/train_data/wcrsrt/100_4453.JPG  \n",
            "  inflating: train_data/train_data/wcrsrt/100_4454.JPG  \n",
            "  inflating: train_data/train_data/wcrsrt/100_4455.JPG  \n",
            "  inflating: train_data/train_data/wcrsrt/100_4456.JPG  \n",
            "  inflating: train_data/train_data/wcrsrt/100_4457.JPG  \n",
            "  inflating: train_data/train_data/wcrsrt/100_4458.JPG  \n",
            "  inflating: train_data/train_data/wcrsrt/100_4459.JPG  \n",
            "  inflating: train_data/train_data/wcrsrt/100_4460.JPG  \n",
            "  inflating: train_data/train_data/wcrsrt/100_4461.JPG  \n"
          ]
        }
      ]
    },
    {
      "cell_type": "code",
      "source": [
        "#req libraries\n",
        "from tensorflow.keras.preprocessing.image import ImageDataGenerator"
      ],
      "metadata": {
        "id": "quXVW_r3WxP3"
      },
      "execution_count": null,
      "outputs": []
    },
    {
      "cell_type": "code",
      "source": [
        "train_path = \"/content/train_data/train_data\"\n",
        "test_path = \"/content/test_data/test_data\""
      ],
      "metadata": {
        "id": "W4TnUo9xDHcw"
      },
      "execution_count": null,
      "outputs": []
    },
    {
      "cell_type": "markdown",
      "source": [
        "**Step - 1: Data Augmentation**"
      ],
      "metadata": {
        "id": "GvnOFVQeDTwx"
      }
    },
    {
      "cell_type": "code",
      "source": [
        "train_gen = ImageDataGenerator(rescale=(1./255),horizontal_flip=True,shear_range=0.2)\n",
        "test_gen = ImageDataGenerator(rescale=(1./255))"
      ],
      "metadata": {
        "id": "YCsY8svCDIf-"
      },
      "execution_count": null,
      "outputs": []
    },
    {
      "cell_type": "code",
      "source": [
        "train=train_gen.flow_from_directory('/content/train_data/train_data', target_size=(120, 120), class_mode='categorical', batch_size=8)\n",
        "test=test_gen.flow_from_directory('/content/test_data/test_data', target_size=(120, 120), class_mode='categorical', batch_size=8)"
      ],
      "metadata": {
        "id": "y0tJ8WFeBX0f",
        "colab": {
          "base_uri": "https://localhost:8080/"
        },
        "outputId": "1e4fa25d-cafe-4a28-bea4-676188986b4e"
      },
      "execution_count": null,
      "outputs": [
        {
          "output_type": "stream",
          "name": "stdout",
          "text": [
            "Found 150 images belonging to 16 classes.\n",
            "Found 157 images belonging to 16 classes.\n"
          ]
        }
      ]
    },
    {
      "cell_type": "code",
      "source": [
        "train.class_indices"
      ],
      "metadata": {
        "id": "7qC5jsj_Bm4f",
        "colab": {
          "base_uri": "https://localhost:8080/"
        },
        "outputId": "a6535074-d889-45b8-9ee4-e84c783c0d83"
      },
      "execution_count": null,
      "outputs": [
        {
          "output_type": "execute_result",
          "data": {
            "text/plain": [
              "{'blasti': 0,\n",
              " 'bonegl': 1,\n",
              " 'brhkyt': 2,\n",
              " 'cbrtsh': 3,\n",
              " 'cmnmyn': 4,\n",
              " 'gretit': 5,\n",
              " 'hilpig': 6,\n",
              " 'himbul': 7,\n",
              " 'himgri': 8,\n",
              " 'hsparo': 9,\n",
              " 'indvul': 10,\n",
              " 'jglowl': 11,\n",
              " 'lbicrw': 12,\n",
              " 'mgprob': 13,\n",
              " 'rebimg': 14,\n",
              " 'wcrsrt': 15}"
            ]
          },
          "metadata": {},
          "execution_count": 8
        }
      ]
    },
    {
      "cell_type": "markdown",
      "source": [
        "**Step - 2: CNN Model Building**"
      ],
      "metadata": {
        "id": "po9w_F5dBv5R"
      }
    },
    {
      "cell_type": "code",
      "source": [
        "#required libraries\n",
        "from tensorflow.keras.layers import Convolution2D, MaxPooling2D, Flatten, Dense\n",
        "from tensorflow.keras.models import Sequential"
      ],
      "metadata": {
        "id": "AdW0q4JvBy6B"
      },
      "execution_count": null,
      "outputs": []
    },
    {
      "cell_type": "code",
      "source": [
        "model=Sequential()\n",
        "\n",
        "model.add(Convolution2D(20, (3, 3), activation='relu', input_shape=(120, 120, 3)))\n",
        "model.add(MaxPooling2D(pool_size=(2, 2)))\n",
        "model.add(Flatten())\n",
        "model.add(Dense(45, activation='relu'))\n",
        "model.add(Dense(16, activation='softmax'))"
      ],
      "metadata": {
        "id": "bkgMcCjjD1Nd"
      },
      "execution_count": null,
      "outputs": []
    },
    {
      "cell_type": "code",
      "source": [
        "model.compile(optimizer='adam', loss='categorical_crossentropy', metrics=['accuracy'])"
      ],
      "metadata": {
        "id": "ySJLcq1ZD7KU"
      },
      "execution_count": null,
      "outputs": []
    },
    {
      "cell_type": "code",
      "source": [
        "model.fit(train, batch_size=8, validation_data=test, epochs=20)"
      ],
      "metadata": {
        "id": "oFeWZl6yEHoO",
        "colab": {
          "base_uri": "https://localhost:8080/"
        },
        "outputId": "f7761488-f9c6-4556-d81c-67b8dcd6862a"
      },
      "execution_count": null,
      "outputs": [
        {
          "output_type": "stream",
          "name": "stdout",
          "text": [
            "Epoch 1/20\n",
            "19/19 [==============================] - 100s 5s/step - loss: 4.5794 - accuracy: 0.1467 - val_loss: 2.7846 - val_accuracy: 0.1592\n",
            "Epoch 2/20\n",
            "19/19 [==============================] - 120s 7s/step - loss: 2.4995 - accuracy: 0.1733 - val_loss: 2.7833 - val_accuracy: 0.1146\n",
            "Epoch 3/20\n",
            "19/19 [==============================] - 88s 5s/step - loss: 2.3099 - accuracy: 0.2333 - val_loss: 2.7596 - val_accuracy: 0.1274\n",
            "Epoch 4/20\n",
            "19/19 [==============================] - 86s 5s/step - loss: 2.0971 - accuracy: 0.2800 - val_loss: 2.7868 - val_accuracy: 0.2038\n",
            "Epoch 5/20\n",
            "19/19 [==============================] - 88s 5s/step - loss: 1.8482 - accuracy: 0.3733 - val_loss: 2.7231 - val_accuracy: 0.1911\n",
            "Epoch 6/20\n",
            "19/19 [==============================] - 88s 5s/step - loss: 1.6959 - accuracy: 0.5467 - val_loss: 2.8509 - val_accuracy: 0.1783\n",
            "Epoch 7/20\n",
            "19/19 [==============================] - 86s 5s/step - loss: 1.4185 - accuracy: 0.5867 - val_loss: 2.6882 - val_accuracy: 0.2484\n",
            "Epoch 8/20\n",
            "19/19 [==============================] - 87s 5s/step - loss: 1.1511 - accuracy: 0.6933 - val_loss: 2.8285 - val_accuracy: 0.1911\n",
            "Epoch 9/20\n",
            "19/19 [==============================] - 118s 6s/step - loss: 0.9335 - accuracy: 0.7533 - val_loss: 2.7126 - val_accuracy: 0.1847\n",
            "Epoch 10/20\n",
            "19/19 [==============================] - 86s 5s/step - loss: 0.7475 - accuracy: 0.8000 - val_loss: 2.9492 - val_accuracy: 0.1911\n",
            "Epoch 11/20\n",
            "19/19 [==============================] - 87s 5s/step - loss: 0.5024 - accuracy: 0.8733 - val_loss: 3.0789 - val_accuracy: 0.1975\n",
            "Epoch 12/20\n",
            "19/19 [==============================] - 85s 5s/step - loss: 0.3753 - accuracy: 0.9800 - val_loss: 3.4145 - val_accuracy: 0.2038\n",
            "Epoch 13/20\n",
            "19/19 [==============================] - 86s 5s/step - loss: 0.2830 - accuracy: 0.9667 - val_loss: 3.3332 - val_accuracy: 0.2102\n",
            "Epoch 14/20\n",
            "19/19 [==============================] - 89s 5s/step - loss: 0.2778 - accuracy: 0.9400 - val_loss: 3.3296 - val_accuracy: 0.2357\n",
            "Epoch 15/20\n",
            "19/19 [==============================] - 119s 6s/step - loss: 0.1762 - accuracy: 0.9800 - val_loss: 3.6273 - val_accuracy: 0.2038\n",
            "Epoch 16/20\n",
            "19/19 [==============================] - 119s 7s/step - loss: 0.1695 - accuracy: 0.9667 - val_loss: 3.4541 - val_accuracy: 0.1720\n",
            "Epoch 17/20\n",
            "19/19 [==============================] - 90s 5s/step - loss: 0.1264 - accuracy: 0.9867 - val_loss: 3.6262 - val_accuracy: 0.2293\n",
            "Epoch 18/20\n",
            "19/19 [==============================] - 89s 5s/step - loss: 0.0944 - accuracy: 1.0000 - val_loss: 3.7519 - val_accuracy: 0.2166\n",
            "Epoch 19/20\n",
            "19/19 [==============================] - 121s 7s/step - loss: 0.0898 - accuracy: 0.9867 - val_loss: 3.8318 - val_accuracy: 0.2166\n",
            "Epoch 20/20\n",
            "19/19 [==============================] - 88s 5s/step - loss: 0.0707 - accuracy: 0.9933 - val_loss: 3.7997 - val_accuracy: 0.2293\n"
          ]
        },
        {
          "output_type": "execute_result",
          "data": {
            "text/plain": [
              "<keras.callbacks.History at 0x7f6a1b6d2980>"
            ]
          },
          "metadata": {},
          "execution_count": 13
        }
      ]
    },
    {
      "cell_type": "markdown",
      "source": [
        "**Step - 3: Testing the Model**"
      ],
      "metadata": {
        "id": "i3pPkCtPExPf"
      }
    },
    {
      "cell_type": "code",
      "source": [
        "#required libraries\n",
        "import numpy as np\n",
        "from tensorflow.keras.preprocessing import image"
      ],
      "metadata": {
        "id": "nPObLdMaE8oH"
      },
      "execution_count": null,
      "outputs": []
    },
    {
      "cell_type": "code",
      "source": [
        "#testing with class hsparo\n",
        "\n",
        "img1=image.load_img('/content/test_data/test_data/hsparo/DSC_4521.jpg', target_size=(120, 120))\n",
        "img1=image.img_to_array(img1)\n",
        "img1=np.expand_dims(img1, axis=0)\n",
        "pred1=np.argmax(model.predict(img1))\n",
        "print(pred1)"
      ],
      "metadata": {
        "id": "0bn43qJREntg",
        "colab": {
          "base_uri": "https://localhost:8080/"
        },
        "outputId": "a4d6989f-4100-43e0-c0e7-158f1106bdcc"
      },
      "execution_count": null,
      "outputs": [
        {
          "output_type": "stream",
          "name": "stdout",
          "text": [
            "1/1 [==============================] - 0s 308ms/step\n",
            "9\n"
          ]
        }
      ]
    },
    {
      "cell_type": "code",
      "source": [
        "#list\n",
        "output=['blasti',\n",
        " 'bonegl',\n",
        " 'brhkyt',\n",
        " 'cbrtsh',\n",
        " 'cmnmyn',\n",
        " 'gretit',\n",
        " 'hilpig',\n",
        " 'himbul',\n",
        " 'himgri',\n",
        " 'hsparo',\n",
        " 'indvul',\n",
        " 'jglowl',\n",
        " 'lbicrw',\n",
        " 'mgprob',\n",
        " 'rebimg',\n",
        " 'wcrsrt']\n",
        "\n",
        "#list indexing\n",
        "print(output[pred1])"
      ],
      "metadata": {
        "id": "aPK-kB7XRzB0",
        "colab": {
          "base_uri": "https://localhost:8080/"
        },
        "outputId": "c44df7c3-461d-4e61-fb4b-880fd763b2b5"
      },
      "execution_count": null,
      "outputs": [
        {
          "output_type": "stream",
          "name": "stdout",
          "text": [
            "hsparo\n"
          ]
        }
      ]
    },
    {
      "cell_type": "code",
      "source": [
        "#testing with class himbul\n",
        "\n",
        "img2=image.load_img('/content/test_data/test_data/himbul/D72_0691.jpg', target_size=(120, 120))\n",
        "img2=image.img_to_array(img2)\n",
        "img2=np.expand_dims(img2, axis=0)\n",
        "pred2=np.argmax(model.predict(img2))\n",
        "print(pred2)\n",
        "\n",
        "#list\n",
        "output=['blasti',\n",
        " 'bonegl',\n",
        " 'brhkyt',\n",
        " 'cbrtsh',\n",
        " 'cmnmyn',\n",
        " 'gretit',\n",
        " 'hilpig',\n",
        " 'himbul',\n",
        " 'himgri',\n",
        " 'hsparo',\n",
        " 'indvul',\n",
        " 'jglowl',\n",
        " 'lbicrw',\n",
        " 'mgprob',\n",
        " 'rebimg',\n",
        " 'wcrsrt']\n",
        "\n",
        "#list indexing\n",
        "print(output[pred2])"
      ],
      "metadata": {
        "colab": {
          "base_uri": "https://localhost:8080/"
        },
        "id": "FayOhsMnq4L7",
        "outputId": "97a30752-bf1d-4779-adea-49655ef1c117"
      },
      "execution_count": null,
      "outputs": [
        {
          "output_type": "stream",
          "name": "stdout",
          "text": [
            "1/1 [==============================] - 0s 19ms/step\n",
            "15\n",
            "wcrsrt\n"
          ]
        }
      ]
    },
    {
      "cell_type": "code",
      "source": [
        "#testing with class indvul\n",
        "\n",
        "img3=image.load_img('/content/test_data/test_data/indvul/DSC_1274.jpg', target_size=(120, 120))\n",
        "img3=image.img_to_array(img3)\n",
        "img3=np.expand_dims(img3, axis=0)\n",
        "pred3=np.argmax(model.predict(img3))\n",
        "print(pred3)\n",
        "\n",
        "#list\n",
        "output=['blasti',\n",
        " 'bonegl',\n",
        " 'brhkyt',\n",
        " 'cbrtsh',\n",
        " 'cmnmyn',\n",
        " 'gretit',\n",
        " 'hilpig',\n",
        " 'himbul',\n",
        " 'himgri',\n",
        " 'hsparo',\n",
        " 'indvul',\n",
        " 'jglowl',\n",
        " 'lbicrw',\n",
        " 'mgprob',\n",
        " 'rebimg',\n",
        " 'wcrsrt']\n",
        "\n",
        "#list indexing\n",
        "print(output[pred3])"
      ],
      "metadata": {
        "colab": {
          "base_uri": "https://localhost:8080/"
        },
        "id": "PUA9vasVr_hx",
        "outputId": "05706455-53a8-4151-c989-9d9571564fdd"
      },
      "execution_count": null,
      "outputs": [
        {
          "output_type": "stream",
          "name": "stdout",
          "text": [
            "1/1 [==============================] - 0s 18ms/step\n",
            "4\n",
            "cmnmyn\n"
          ]
        }
      ]
    },
    {
      "cell_type": "code",
      "source": [
        "#testing with class rebimg\n",
        "\n",
        "img4=image.load_img('/content/test_data/test_data/rebimg/DSC_7148.jpg', target_size=(120, 120))\n",
        "img4=image.img_to_array(img4)\n",
        "img4=np.expand_dims(img4, axis=0)\n",
        "pred4=np.argmax(model.predict(img4))\n",
        "print(pred4)\n",
        "\n",
        "#list\n",
        "output=['blasti',\n",
        " 'bonegl',\n",
        " 'brhkyt',\n",
        " 'cbrtsh',\n",
        " 'cmnmyn',\n",
        " 'gretit',\n",
        " 'hilpig',\n",
        " 'himbul',\n",
        " 'himgri',\n",
        " 'hsparo',\n",
        " 'indvul',\n",
        " 'jglowl',\n",
        " 'lbicrw',\n",
        " 'mgprob',\n",
        " 'rebimg',\n",
        " 'wcrsrt']\n",
        "\n",
        "#list indexing\n",
        "print(output[pred4])"
      ],
      "metadata": {
        "id": "Jq9qB3w59spo",
        "outputId": "2c06b72f-fef5-4492-e534-0c009e7c2bd7",
        "colab": {
          "base_uri": "https://localhost:8080/"
        }
      },
      "execution_count": null,
      "outputs": [
        {
          "output_type": "stream",
          "name": "stdout",
          "text": [
            "1/1 [==============================] - 0s 21ms/step\n",
            "14\n",
            "rebimg\n"
          ]
        }
      ]
    },
    {
      "cell_type": "markdown",
      "source": [
        "**Step - 4: Model Tuning**"
      ],
      "metadata": {
        "id": "6RBYoDO3UY4R"
      }
    },
    {
      "cell_type": "code",
      "source": [
        "#tuning the model for accuracy\n",
        "\n",
        "model=Sequential()\n",
        "\n",
        "model.add(Convolution2D(12, (3, 3), activation='relu', input_shape=(120, 120, 3)))\n",
        "model.add(MaxPooling2D(pool_size=(2, 2)))\n",
        "model.add(Convolution2D(24, (3, 3), activation='relu'))\n",
        "model.add(MaxPooling2D(pool_size=(2, 2)))\n",
        "model.add(Convolution2D(36, (3, 3), activation='relu'))\n",
        "model.add(MaxPooling2D(pool_size=(2, 2)))\n",
        "model.add(Flatten())\n",
        "model.add(Dense(62, activation='relu'))\n",
        "model.add(Dense(32, activation='relu'))\n",
        "model.add(Dense(16, activation='relu'))\n",
        "model.add(Dense(16, activation='softmax'))"
      ],
      "metadata": {
        "id": "gg9ThK2UUcKz"
      },
      "execution_count": null,
      "outputs": []
    },
    {
      "cell_type": "code",
      "source": [
        "#summary after tuning\n",
        "model.summary()"
      ],
      "metadata": {
        "id": "ImhiG40AUki5",
        "colab": {
          "base_uri": "https://localhost:8080/"
        },
        "outputId": "f4c48a18-1c03-43bb-820f-d3c57765fd47"
      },
      "execution_count": null,
      "outputs": [
        {
          "output_type": "stream",
          "name": "stdout",
          "text": [
            "Model: \"sequential_1\"\n",
            "_________________________________________________________________\n",
            " Layer (type)                Output Shape              Param #   \n",
            "=================================================================\n",
            " conv2d_1 (Conv2D)           (None, 118, 118, 12)      336       \n",
            "                                                                 \n",
            " max_pooling2d_1 (MaxPooling  (None, 59, 59, 12)       0         \n",
            " 2D)                                                             \n",
            "                                                                 \n",
            " conv2d_2 (Conv2D)           (None, 57, 57, 24)        2616      \n",
            "                                                                 \n",
            " max_pooling2d_2 (MaxPooling  (None, 28, 28, 24)       0         \n",
            " 2D)                                                             \n",
            "                                                                 \n",
            " conv2d_3 (Conv2D)           (None, 26, 26, 36)        7812      \n",
            "                                                                 \n",
            " max_pooling2d_3 (MaxPooling  (None, 13, 13, 36)       0         \n",
            " 2D)                                                             \n",
            "                                                                 \n",
            " flatten_1 (Flatten)         (None, 6084)              0         \n",
            "                                                                 \n",
            " dense_2 (Dense)             (None, 62)                377270    \n",
            "                                                                 \n",
            " dense_3 (Dense)             (None, 32)                2016      \n",
            "                                                                 \n",
            " dense_4 (Dense)             (None, 16)                528       \n",
            "                                                                 \n",
            " dense_5 (Dense)             (None, 16)                272       \n",
            "                                                                 \n",
            "=================================================================\n",
            "Total params: 390,850\n",
            "Trainable params: 390,850\n",
            "Non-trainable params: 0\n",
            "_________________________________________________________________\n"
          ]
        }
      ]
    },
    {
      "cell_type": "code",
      "source": [
        "model.compile(optimizer='adam', loss='categorical_crossentropy', metrics=['accuracy'])"
      ],
      "metadata": {
        "id": "F-hT4iAmUxF2"
      },
      "execution_count": null,
      "outputs": []
    },
    {
      "cell_type": "code",
      "source": [
        "model.fit(train, batch_size=8, validation_data=test, epochs=40)"
      ],
      "metadata": {
        "id": "DHqbrSDoU0iG",
        "colab": {
          "base_uri": "https://localhost:8080/"
        },
        "outputId": "4bdcce0d-454e-4780-e215-e229281e67ad"
      },
      "execution_count": null,
      "outputs": [
        {
          "output_type": "stream",
          "name": "stdout",
          "text": [
            "Epoch 1/40\n",
            "19/19 [==============================] - 96s 5s/step - loss: 2.8139 - accuracy: 0.0400 - val_loss: 2.7699 - val_accuracy: 0.0955\n",
            "Epoch 2/40\n",
            "19/19 [==============================] - 91s 5s/step - loss: 2.7613 - accuracy: 0.0733 - val_loss: 2.7630 - val_accuracy: 0.0764\n",
            "Epoch 3/40\n",
            "19/19 [==============================] - 120s 7s/step - loss: 2.7293 - accuracy: 0.1267 - val_loss: 2.7625 - val_accuracy: 0.1210\n",
            "Epoch 4/40\n",
            "19/19 [==============================] - 120s 7s/step - loss: 2.6585 - accuracy: 0.1533 - val_loss: 2.7693 - val_accuracy: 0.1783\n",
            "Epoch 5/40\n",
            "19/19 [==============================] - 120s 7s/step - loss: 2.6132 - accuracy: 0.1333 - val_loss: 2.7525 - val_accuracy: 0.1656\n",
            "Epoch 6/40\n",
            "19/19 [==============================] - 90s 5s/step - loss: 2.4874 - accuracy: 0.2000 - val_loss: 2.8715 - val_accuracy: 0.1465\n",
            "Epoch 7/40\n",
            "19/19 [==============================] - 87s 5s/step - loss: 2.3947 - accuracy: 0.2533 - val_loss: 2.7617 - val_accuracy: 0.1529\n",
            "Epoch 8/40\n",
            "19/19 [==============================] - 119s 7s/step - loss: 2.3335 - accuracy: 0.2600 - val_loss: 3.0422 - val_accuracy: 0.1592\n",
            "Epoch 9/40\n",
            "19/19 [==============================] - 121s 7s/step - loss: 2.2599 - accuracy: 0.2600 - val_loss: 2.9531 - val_accuracy: 0.1338\n",
            "Epoch 10/40\n",
            "19/19 [==============================] - 120s 7s/step - loss: 2.2913 - accuracy: 0.2067 - val_loss: 2.9042 - val_accuracy: 0.1783\n",
            "Epoch 11/40\n",
            "19/19 [==============================] - 90s 5s/step - loss: 2.1468 - accuracy: 0.2600 - val_loss: 2.8519 - val_accuracy: 0.1783\n",
            "Epoch 12/40\n",
            "19/19 [==============================] - 119s 7s/step - loss: 2.0246 - accuracy: 0.2667 - val_loss: 2.9154 - val_accuracy: 0.1656\n",
            "Epoch 13/40\n",
            "19/19 [==============================] - 88s 5s/step - loss: 1.9685 - accuracy: 0.3400 - val_loss: 3.0540 - val_accuracy: 0.1401\n",
            "Epoch 14/40\n",
            "19/19 [==============================] - 119s 6s/step - loss: 1.8709 - accuracy: 0.4133 - val_loss: 3.2054 - val_accuracy: 0.2102\n",
            "Epoch 15/40\n",
            "19/19 [==============================] - 86s 5s/step - loss: 1.7217 - accuracy: 0.4533 - val_loss: 3.6455 - val_accuracy: 0.2420\n",
            "Epoch 16/40\n",
            "19/19 [==============================] - 87s 5s/step - loss: 1.5701 - accuracy: 0.5000 - val_loss: 3.5560 - val_accuracy: 0.1975\n",
            "Epoch 17/40\n",
            "19/19 [==============================] - 84s 5s/step - loss: 1.4510 - accuracy: 0.5333 - val_loss: 3.7439 - val_accuracy: 0.2357\n",
            "Epoch 18/40\n",
            "19/19 [==============================] - 86s 5s/step - loss: 1.3754 - accuracy: 0.5667 - val_loss: 3.6692 - val_accuracy: 0.2357\n",
            "Epoch 19/40\n",
            "19/19 [==============================] - 120s 7s/step - loss: 1.1243 - accuracy: 0.6200 - val_loss: 3.7921 - val_accuracy: 0.2548\n",
            "Epoch 20/40\n",
            "19/19 [==============================] - 85s 5s/step - loss: 1.2910 - accuracy: 0.5600 - val_loss: 3.7383 - val_accuracy: 0.2484\n",
            "Epoch 21/40\n",
            "19/19 [==============================] - 86s 5s/step - loss: 0.9682 - accuracy: 0.7067 - val_loss: 4.1433 - val_accuracy: 0.2420\n",
            "Epoch 22/40\n",
            "19/19 [==============================] - 85s 5s/step - loss: 0.8705 - accuracy: 0.7067 - val_loss: 4.2990 - val_accuracy: 0.2548\n",
            "Epoch 23/40\n",
            "19/19 [==============================] - 85s 5s/step - loss: 0.7542 - accuracy: 0.7600 - val_loss: 4.5578 - val_accuracy: 0.2866\n",
            "Epoch 24/40\n",
            "19/19 [==============================] - 86s 5s/step - loss: 0.7406 - accuracy: 0.7933 - val_loss: 4.4037 - val_accuracy: 0.2994\n",
            "Epoch 25/40\n",
            "19/19 [==============================] - 86s 5s/step - loss: 0.5998 - accuracy: 0.8200 - val_loss: 4.7830 - val_accuracy: 0.2420\n",
            "Epoch 26/40\n",
            "19/19 [==============================] - 84s 5s/step - loss: 0.5005 - accuracy: 0.8667 - val_loss: 4.2681 - val_accuracy: 0.3185\n",
            "Epoch 27/40\n",
            "19/19 [==============================] - 86s 5s/step - loss: 0.5049 - accuracy: 0.8267 - val_loss: 4.9970 - val_accuracy: 0.3121\n",
            "Epoch 28/40\n",
            "19/19 [==============================] - 85s 5s/step - loss: 0.4272 - accuracy: 0.8533 - val_loss: 4.7622 - val_accuracy: 0.3185\n",
            "Epoch 29/40\n",
            "19/19 [==============================] - 84s 5s/step - loss: 0.3721 - accuracy: 0.8867 - val_loss: 5.5594 - val_accuracy: 0.2930\n",
            "Epoch 30/40\n",
            "19/19 [==============================] - 86s 5s/step - loss: 0.6735 - accuracy: 0.8267 - val_loss: 4.2105 - val_accuracy: 0.2866\n",
            "Epoch 31/40\n",
            "19/19 [==============================] - 86s 5s/step - loss: 0.3587 - accuracy: 0.9000 - val_loss: 5.5387 - val_accuracy: 0.3121\n",
            "Epoch 32/40\n",
            "19/19 [==============================] - 85s 5s/step - loss: 0.2785 - accuracy: 0.9067 - val_loss: 5.8895 - val_accuracy: 0.3121\n",
            "Epoch 33/40\n",
            "19/19 [==============================] - 87s 5s/step - loss: 0.2359 - accuracy: 0.9000 - val_loss: 5.8343 - val_accuracy: 0.2739\n",
            "Epoch 34/40\n",
            "19/19 [==============================] - 86s 5s/step - loss: 0.1676 - accuracy: 0.9667 - val_loss: 5.4859 - val_accuracy: 0.3121\n",
            "Epoch 35/40\n",
            "19/19 [==============================] - 84s 5s/step - loss: 0.1285 - accuracy: 0.9667 - val_loss: 6.2499 - val_accuracy: 0.2866\n",
            "Epoch 36/40\n",
            "19/19 [==============================] - 85s 5s/step - loss: 0.0911 - accuracy: 0.9867 - val_loss: 6.7680 - val_accuracy: 0.2803\n",
            "Epoch 37/40\n",
            "19/19 [==============================] - 119s 7s/step - loss: 0.1468 - accuracy: 0.9400 - val_loss: 6.4991 - val_accuracy: 0.3312\n",
            "Epoch 38/40\n",
            "19/19 [==============================] - 85s 5s/step - loss: 0.1130 - accuracy: 0.9800 - val_loss: 6.4510 - val_accuracy: 0.2675\n",
            "Epoch 39/40\n",
            "19/19 [==============================] - 119s 6s/step - loss: 0.1063 - accuracy: 0.9733 - val_loss: 6.5719 - val_accuracy: 0.2548\n",
            "Epoch 40/40\n",
            "19/19 [==============================] - 86s 5s/step - loss: 0.1540 - accuracy: 0.9533 - val_loss: 6.4413 - val_accuracy: 0.2548\n"
          ]
        },
        {
          "output_type": "execute_result",
          "data": {
            "text/plain": [
              "<keras.callbacks.History at 0x7fd71d719e40>"
            ]
          },
          "metadata": {},
          "execution_count": 33
        }
      ]
    }
  ]
}